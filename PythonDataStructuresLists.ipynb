{
  "nbformat": 4,
  "nbformat_minor": 0,
  "metadata": {
    "colab": {
      "name": "PythonDataStructuresLists.ipynb",
      "provenance": [],
      "authorship_tag": "ABX9TyMVrTyVA5oJTR4uXU5cr10L",
      "include_colab_link": true
    },
    "kernelspec": {
      "name": "python3",
      "display_name": "Python 3"
    }
  },
  "cells": [
    {
      "cell_type": "markdown",
      "metadata": {
        "id": "view-in-github",
        "colab_type": "text"
      },
      "source": [
        "<a href=\"https://colab.research.google.com/github/RiditaNizam/PythonDataStructures84/blob/main/PythonDataStructuresLists.ipynb\" target=\"_parent\"><img src=\"https://colab.research.google.com/assets/colab-badge.svg\" alt=\"Open In Colab\"/></a>"
      ]
    },
    {
      "cell_type": "markdown",
      "metadata": {
        "id": "OgvloQZeUWms"
      },
      "source": [
        "8.4 Open the file romeo.txt and read it line by line. For each line, split the line into a list of words using the split() method. The program should build a list of words. For each word on each line check to see if the word is already in the list and if not append it to the list. When the program completes, sort and print the resulting words in alphabetical order.\n",
        "You can download the sample data at http://www.py4e.com/code3/romeo.txt"
      ]
    },
    {
      "cell_type": "code",
      "metadata": {
        "id": "Zfj7-ixUUVgZ"
      },
      "source": [
        "fname = input(\"Enter file name: \")\n",
        "fh = open(fname).read().split()\n",
        "\n",
        "myList = []\n",
        "\n",
        "for item in fh:\n",
        "    if item in myList:\n",
        "        continue\n",
        "    else:\n",
        "        myList.append(item)\n",
        "\n",
        "myList.sort()\n",
        "\n",
        "print(myList)"
      ],
      "execution_count": null,
      "outputs": []
    }
  ]
}